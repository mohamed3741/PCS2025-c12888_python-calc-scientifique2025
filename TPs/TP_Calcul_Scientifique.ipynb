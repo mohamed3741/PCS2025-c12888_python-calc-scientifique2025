{
  "nbformat": 4,
  "nbformat_minor": 0,
  "metadata": {
    "colab": {
      "provenance": [],
      "gpuType": "T4"
    },
    "kernelspec": {
      "name": "python3",
      "display_name": "Python 3"
    },
    "language_info": {
      "name": "python"
    },
    "accelerator": "GPU"
  },
  "cells": [
    {
      "cell_type": "markdown",
      "source": [
        "# **Exercice 1.1 : Fonction de moyenne**"
      ],
      "metadata": {
        "id": "28Mhzu5DuEyj"
      }
    },
    {
      "cell_type": "code",
      "execution_count": 1,
      "metadata": {
        "id": "HpIatuORtR6V"
      },
      "outputs": [],
      "source": [
        "def calcul_moyenne(donnees: list[float]) -> float:\n",
        "    return sum(donnees) / len(donnees)"
      ]
    },
    {
      "cell_type": "code",
      "source": [
        "liste_test = [1.0, 2.0, 3.0]\n",
        "print(\"Moyenne de [1.0, 2.0, 3.0] :\", calcul_moyenne(liste_test))"
      ],
      "metadata": {
        "colab": {
          "base_uri": "https://localhost:8080/"
        },
        "id": "n4f2rAfmuOrM",
        "outputId": "3319ab90-3339-42a9-fa51-e1ba07f853ed"
      },
      "execution_count": 2,
      "outputs": [
        {
          "output_type": "stream",
          "name": "stdout",
          "text": [
            "Moyenne de [1.0, 2.0, 3.0] : 2.0\n"
          ]
        }
      ]
    },
    {
      "cell_type": "code",
      "source": [
        "result = calcul_moyenne([])\n",
        "print(result)"
      ],
      "metadata": {
        "colab": {
          "base_uri": "https://localhost:8080/",
          "height": 228
        },
        "id": "0RHeQg9_uQoB",
        "outputId": "68f08ae8-5bd4-49be-be4e-7005461a835b"
      },
      "execution_count": 3,
      "outputs": [
        {
          "output_type": "error",
          "ename": "ZeroDivisionError",
          "evalue": "division by zero",
          "traceback": [
            "\u001b[0;31m---------------------------------------------------------------------------\u001b[0m",
            "\u001b[0;31mZeroDivisionError\u001b[0m                         Traceback (most recent call last)",
            "\u001b[0;32m<ipython-input-3-2d5b614b54e4>\u001b[0m in \u001b[0;36m<cell line: 0>\u001b[0;34m()\u001b[0m\n\u001b[0;32m----> 1\u001b[0;31m \u001b[0mresult\u001b[0m \u001b[0;34m=\u001b[0m \u001b[0mcalcul_moyenne\u001b[0m\u001b[0;34m(\u001b[0m\u001b[0;34m[\u001b[0m\u001b[0;34m]\u001b[0m\u001b[0;34m)\u001b[0m\u001b[0;34m\u001b[0m\u001b[0;34m\u001b[0m\u001b[0m\n\u001b[0m\u001b[1;32m      2\u001b[0m \u001b[0mprint\u001b[0m\u001b[0;34m(\u001b[0m\u001b[0mresult\u001b[0m\u001b[0;34m)\u001b[0m\u001b[0;34m\u001b[0m\u001b[0;34m\u001b[0m\u001b[0m\n",
            "\u001b[0;32m<ipython-input-1-3b15b899a873>\u001b[0m in \u001b[0;36mcalcul_moyenne\u001b[0;34m(donnees)\u001b[0m\n\u001b[1;32m      1\u001b[0m \u001b[0;32mdef\u001b[0m \u001b[0mcalcul_moyenne\u001b[0m\u001b[0;34m(\u001b[0m\u001b[0mdonnees\u001b[0m\u001b[0;34m:\u001b[0m \u001b[0mlist\u001b[0m\u001b[0;34m[\u001b[0m\u001b[0mfloat\u001b[0m\u001b[0;34m]\u001b[0m\u001b[0;34m)\u001b[0m \u001b[0;34m->\u001b[0m \u001b[0mfloat\u001b[0m\u001b[0;34m:\u001b[0m\u001b[0;34m\u001b[0m\u001b[0;34m\u001b[0m\u001b[0m\n\u001b[0;32m----> 2\u001b[0;31m     \u001b[0;32mreturn\u001b[0m \u001b[0msum\u001b[0m\u001b[0;34m(\u001b[0m\u001b[0mdonnees\u001b[0m\u001b[0;34m)\u001b[0m \u001b[0;34m/\u001b[0m \u001b[0mlen\u001b[0m\u001b[0;34m(\u001b[0m\u001b[0mdonnees\u001b[0m\u001b[0;34m)\u001b[0m\u001b[0;34m\u001b[0m\u001b[0;34m\u001b[0m\u001b[0m\n\u001b[0m",
            "\u001b[0;31mZeroDivisionError\u001b[0m: division by zero"
          ]
        }
      ]
    },
    {
      "cell_type": "markdown",
      "source": [
        "Erreur ZeroDivisionError car on divise par zéro (len(donnees) = 0)."
      ],
      "metadata": {
        "id": "elB6hWtNumke"
      }
    },
    {
      "cell_type": "markdown",
      "source": [
        "# **Exercice 1.2 : Gestion d'une liste vide**"
      ],
      "metadata": {
        "id": "p4_j9QuKvDp1"
      }
    },
    {
      "cell_type": "code",
      "source": [
        "def calcul_moyenne(donnees: list[float]) -> float | None:\n",
        "    if len(donnees) == 0:\n",
        "        return None\n",
        "    return sum(donnees) / len(donnees)"
      ],
      "metadata": {
        "id": "Fo20iUNrug9_"
      },
      "execution_count": 4,
      "outputs": []
    },
    {
      "cell_type": "code",
      "source": [
        "print(\"Moyenne de [] :\", calcul_moyenne([]))"
      ],
      "metadata": {
        "colab": {
          "base_uri": "https://localhost:8080/"
        },
        "id": "bOnDT0OuvJcK",
        "outputId": "2c1b248d-dad7-48af-e8ff-e7d4371ab9b0"
      },
      "execution_count": 5,
      "outputs": [
        {
          "output_type": "stream",
          "name": "stdout",
          "text": [
            "Moyenne de [] : None\n"
          ]
        }
      ]
    },
    {
      "cell_type": "markdown",
      "source": [
        "## **Exercice 1.3 : Analyse de données génomiques**"
      ],
      "metadata": {
        "id": "3JSurEEkv3Zs"
      }
    },
    {
      "cell_type": "code",
      "source": [
        "def gene_plus_exprime(donnees: dict[str, int]) -> str:\n",
        "    return max(donnees, key=donnees.get)\n",
        "\n",
        "donnees = {\"BRCA1\": 5200, \"TP53\": 3400, \"EGFR\": 4100}\n",
        "\n",
        "print(\"Le gène le plus exprimé est :\", gene_plus_exprime(donnees))"
      ],
      "metadata": {
        "colab": {
          "base_uri": "https://localhost:8080/"
        },
        "id": "Z6mTCcdxvMUr",
        "outputId": "ca1a9429-876d-4c0f-8d89-80811724212e"
      },
      "execution_count": 6,
      "outputs": [
        {
          "output_type": "stream",
          "name": "stdout",
          "text": [
            "Le gène le plus exprimé est : BRCA1\n"
          ]
        }
      ]
    },
    {
      "cell_type": "markdown",
      "source": [
        "# **Exercice 1.4 : Avantages de Python**"
      ],
      "metadata": {
        "id": "1VL8ARwuymG0"
      }
    },
    {
      "cell_type": "markdown",
      "source": [
        "| Critère        | Python                                      | C++                                  |\n",
        "|--------------- |---------------------------------------------|--------------------------------------|\n",
        "| **Simplicité** | Syntaxe simple, très lisible                | Syntaxe complexe, plus verbeuse      |\n",
        "| **Bibliothèques** | Énorme écosystème scientifique (NumPy, Pandas, PyTorch...) | Plus limité, surtout pour la data    |\n",
        "| **Communauté** | Très grande, très active, beaucoup de ressources | Communauté active, mais plus technique |\n",
        "| **Vitesse**    | Moins rapide (interprété), mais accélérable | Très rapide, compilé                 |\n"
      ],
      "metadata": {
        "id": "94a7AU1myNrN"
      }
    },
    {
      "cell_type": "markdown",
      "source": [
        "# **Exercice 1.5 : Lecture critique de code scientifique**\n",
        "\n",
        "**Article choisi :**  \n",
        "*Predictive Analysis of the 2019 Novel Coronavirus Pandemic*  \n",
        "_Lien : [https://developers.arcgis.com/python/latest/samples/covid19-part3-predictive-analysis/](https://developers.arcgis.com/python/latest/samples/covid19-part3-predictive-analysis/)_\n",
        "\n",
        "**Bibliothèques utilisées et leur rôle :**\n",
        "\n",
        "| Bibliothèque   | Utilité principale                                    |\n",
        "|:--------------:|:-----------------------------------------------------|\n",
        "| `pandas`       | Manipulation et analyse de données tabulaires         |\n",
        "| `numpy`        | Calcul numérique sur tableaux et matrices             |\n",
        "| `matplotlib`   | Visualisation graphique des résultats                 |\n",
        "| `arcgis.gis`   | Accès aux données géospatiales, analyse spatiale      |\n",
        "\n",
        "**Résumé du rôle des bibliothèques :**\n",
        "- **pandas** et **numpy** servent à préparer et manipuler les données de la pandémie.\n",
        "- **matplotlib** permet de visualiser l’évolution réelle et prédite du COVID-19.\n",
        "- **arcgis.gis** est utilisé pour accéder à des données géospatiales et effectuer des analyses spatiales.\n"
      ],
      "metadata": {
        "id": "z2uBorXMyvyD"
      }
    },
    {
      "cell_type": "markdown",
      "source": [
        "# **Exercice 1.6 : Création de tenseurs de base**"
      ],
      "metadata": {
        "id": "SvwnrW0sz0H1"
      }
    },
    {
      "cell_type": "code",
      "source": [
        "import tensorflow as tf\n",
        "tensor_tf = tf.constant([[1, 2], [3, 4]])\n",
        "print(\"Tenseur TensorFlow :\\n\", tensor_tf)\n",
        "print(\"Shape TensorFlow :\", tensor_tf.shape)\n",
        "\n",
        "# Avec PyTorch\n",
        "import torch\n",
        "tensor_pt = torch.tensor([[1, 2], [3, 4]])\n",
        "print(\"Tenseur PyTorch :\\n\", tensor_pt)\n",
        "print(\"Shape PyTorch :\", tensor_pt.shape)\n"
      ],
      "metadata": {
        "colab": {
          "base_uri": "https://localhost:8080/"
        },
        "id": "17V3fwrlz20K",
        "outputId": "215c3153-1d4b-49ae-8b24-68a9e560a687"
      },
      "execution_count": 8,
      "outputs": [
        {
          "output_type": "stream",
          "name": "stdout",
          "text": [
            "Tenseur TensorFlow :\n",
            " tf.Tensor(\n",
            "[[1 2]\n",
            " [3 4]], shape=(2, 2), dtype=int32)\n",
            "Shape TensorFlow : (2, 2)\n",
            "Tenseur PyTorch :\n",
            " tensor([[1, 2],\n",
            "        [3, 4]])\n",
            "Shape PyTorch : torch.Size([2, 2])\n"
          ]
        }
      ]
    },
    {
      "cell_type": "markdown",
      "source": [
        "# **Exercice 1.7 : Opérations tensoriels de base**"
      ],
      "metadata": {
        "id": "RmlSYZy80B5V"
      }
    },
    {
      "cell_type": "code",
      "source": [
        "import torch\n",
        "\n",
        "a = torch.tensor([[1, 2, 3],\n",
        "                  [4, 5, 6],\n",
        "                  [7, 8, 9]])\n",
        "b = torch.tensor([[9, 8, 7],\n",
        "                  [6, 5, 4],\n",
        "                  [3, 2, 1]])\n",
        "\n",
        "# 1. Addition élément par élément\n",
        "print(\"Addition élément par élément:\\n\", a + b)\n",
        "\n",
        "# 2. Multiplication matricielle\n",
        "print(\"Multiplication matricielle:\\n\", torch.matmul(a, b))\n",
        "\n",
        "# 3. Produit Hadamard (élément-wise)\n",
        "print(\"Produit Hadamard :\\n\", a * b)\n"
      ],
      "metadata": {
        "colab": {
          "base_uri": "https://localhost:8080/"
        },
        "id": "jWWHRTzkz9T6",
        "outputId": "e5adfdd4-fd48-47eb-f303-4f15a949b5eb"
      },
      "execution_count": 9,
      "outputs": [
        {
          "output_type": "stream",
          "name": "stdout",
          "text": [
            "Addition élément par élément:\n",
            " tensor([[10, 10, 10],\n",
            "        [10, 10, 10],\n",
            "        [10, 10, 10]])\n",
            "Multiplication matricielle:\n",
            " tensor([[ 30,  24,  18],\n",
            "        [ 84,  69,  54],\n",
            "        [138, 114,  90]])\n",
            "Produit Hadamard :\n",
            " tensor([[ 9, 16, 21],\n",
            "        [24, 25, 24],\n",
            "        [21, 16,  9]])\n"
          ]
        }
      ]
    },
    {
      "cell_type": "code",
      "source": [],
      "metadata": {
        "id": "EbhJ9i180ShX"
      },
      "execution_count": null,
      "outputs": []
    },
    {
      "cell_type": "markdown",
      "source": [
        "# **Exercice 1.8 : Redimensionnement et broadcasting**"
      ],
      "metadata": {
        "id": "zvqH483B0U2c"
      }
    },
    {
      "cell_type": "code",
      "source": [
        "import numpy as np\n",
        "\n",
        "data = np.arange(1, 13)  # 1 à 12 inclus\n",
        "\n",
        "# 1. 3x4\n",
        "reshaped_3x4 = data.reshape(3, 4)\n",
        "print(\"3x4 :\\n\", reshaped_3x4)\n",
        "\n",
        "# 2. 2x3x2\n",
        "reshaped_2x3x2 = data.reshape(2, 3, 2)\n",
        "print(\"2x3x2 :\\n\", reshaped_2x3x2)\n",
        "\n",
        "# 3. Broadcasting\n",
        "a = np.ones((3, 1))\n",
        "b = np.ones((1, 3))\n",
        "print(\"Broadcasting a+b :\\n\", a + b)\n"
      ],
      "metadata": {
        "colab": {
          "base_uri": "https://localhost:8080/"
        },
        "id": "2S7YQENv0cDC",
        "outputId": "267760ac-ed09-4eeb-cb1e-a353bd3100fd"
      },
      "execution_count": 10,
      "outputs": [
        {
          "output_type": "stream",
          "name": "stdout",
          "text": [
            "3x4 :\n",
            " [[ 1  2  3  4]\n",
            " [ 5  6  7  8]\n",
            " [ 9 10 11 12]]\n",
            "2x3x2 :\n",
            " [[[ 1  2]\n",
            "  [ 3  4]\n",
            "  [ 5  6]]\n",
            "\n",
            " [[ 7  8]\n",
            "  [ 9 10]\n",
            "  [11 12]]]\n",
            "Broadcasting a+b :\n",
            " [[2. 2. 2.]\n",
            " [2. 2. 2.]\n",
            " [2. 2. 2.]]\n"
          ]
        }
      ]
    },
    {
      "cell_type": "code",
      "source": [],
      "metadata": {
        "id": "T0NZpU8n0frS"
      },
      "execution_count": null,
      "outputs": []
    },
    {
      "cell_type": "markdown",
      "source": [
        "# **Exercice 1.9.1 : Tenseurs sur GPU**"
      ],
      "metadata": {
        "id": "hwypYsjc0iOc"
      }
    },
    {
      "cell_type": "code",
      "source": [
        "import torch\n",
        "\n",
        "# Vérifier la disponibilité GPU\n",
        "print(\"GPU disponible ?\", torch.cuda.is_available())\n",
        "\n",
        "# Déplacer un tenseur sur GPU\n",
        "if torch.cuda.is_available():\n",
        "    x = torch.rand(1000, 1000)\n",
        "    x_gpu = x.to(\"cuda\")\n",
        "    # Comparaison temps CPU vs GPU\n",
        "    import time\n",
        "    start = time.time()\n",
        "    y_cpu = x @ x\n",
        "    print(\"Temps CPU :\", time.time() - start)\n",
        "\n",
        "    start = time.time()\n",
        "    y_gpu = x_gpu @ x_gpu\n",
        "    torch.cuda.synchronize()\n",
        "    print(\"Temps GPU :\", time.time() - start)\n",
        "else:\n",
        "    print(\"GPU non disponible sur cette machine\")\n"
      ],
      "metadata": {
        "colab": {
          "base_uri": "https://localhost:8080/"
        },
        "id": "6CpXBmZz0lpI",
        "outputId": "e1df557b-1b16-4db6-90ff-eb52bf24f0a8"
      },
      "execution_count": 1,
      "outputs": [
        {
          "output_type": "stream",
          "name": "stdout",
          "text": [
            "GPU disponible ? True\n",
            "Temps CPU : 0.10594964027404785\n",
            "Temps GPU : 0.19315528869628906\n"
          ]
        }
      ]
    },
    {
      "cell_type": "code",
      "source": [],
      "metadata": {
        "id": "7maY2b480p7i"
      },
      "execution_count": null,
      "outputs": []
    },
    {
      "cell_type": "markdown",
      "source": [
        "# **Exercice 1.9.2 : Gradients automatiques**"
      ],
      "metadata": {
        "id": "NIdN4i3x08S8"
      }
    },
    {
      "cell_type": "code",
      "source": [
        "import torch\n",
        "\n",
        "x = torch.tensor(2.0, requires_grad=True)\n",
        "y = x**2 + 3*x + 1\n",
        "y.backward()\n",
        "print(\"dy/dx en x=2 :\", x.grad)\n"
      ],
      "metadata": {
        "colab": {
          "base_uri": "https://localhost:8080/"
        },
        "id": "V0wmUbvL0_EX",
        "outputId": "baf12717-c65c-44f2-a638-7ea5282ab076"
      },
      "execution_count": 2,
      "outputs": [
        {
          "output_type": "stream",
          "name": "stdout",
          "text": [
            "dy/dx en x=2 : tensor(7.)\n"
          ]
        }
      ]
    },
    {
      "cell_type": "code",
      "source": [],
      "metadata": {
        "id": "7aqcJupk1CM_"
      },
      "execution_count": null,
      "outputs": []
    },
    {
      "cell_type": "markdown",
      "source": [
        "# **Exercice 1.9.3 : Conversion entre frameworks**"
      ],
      "metadata": {
        "id": "ellxWgSZ1EB0"
      }
    },
    {
      "cell_type": "code",
      "source": [
        "import torch\n",
        "import tensorflow as tf\n",
        "\n",
        "# Créer un tenseur PyTorch\n",
        "tensor_pt = torch.tensor([[1, 2], [3, 4]])\n",
        "# Convertir en NumPy\n",
        "tensor_np = tensor_pt.numpy()\n",
        "# Puis en TensorFlow\n",
        "tensor_tf = tf.convert_to_tensor(tensor_np)\n",
        "print(\"TensorFlow :\\n\", tensor_tf)\n"
      ],
      "metadata": {
        "colab": {
          "base_uri": "https://localhost:8080/"
        },
        "id": "g6S92CZy1G_g",
        "outputId": "1d2045cf-5d0d-41d6-e142-673a1560949b"
      },
      "execution_count": 3,
      "outputs": [
        {
          "output_type": "stream",
          "name": "stdout",
          "text": [
            "TensorFlow :\n",
            " tf.Tensor(\n",
            "[[1 2]\n",
            " [3 4]], shape=(2, 2), dtype=int64)\n"
          ]
        }
      ]
    },
    {
      "cell_type": "code",
      "source": [],
      "metadata": {
        "id": "56r7ZSou1Mwh"
      },
      "execution_count": null,
      "outputs": []
    },
    {
      "cell_type": "markdown",
      "source": [
        "# **Exercice 1.9.4 : Tenseurs pour images**"
      ],
      "metadata": {
        "id": "9fGV_ITv1O9U"
      }
    },
    {
      "cell_type": "code",
      "source": [
        "from PIL import Image\n",
        "import numpy as np\n",
        "import matplotlib.pyplot as plt\n",
        "\n",
        "# Charger une image noir & blanc test (ou créer une matrice factice)\n",
        "img = np.random.randint(0, 255, (64, 64), dtype=np.uint8)\n",
        "plt.imshow(img, cmap=\"gray\")\n",
        "plt.title(\"Image originale\")\n",
        "plt.show()\n",
        "\n",
        "# Convertir en tenseur (PyTorch)\n",
        "import torch\n",
        "tensor_img = torch.tensor(img, dtype=torch.float32) / 255.0\n",
        "print(\"Tenseur image normalisé :\\n\", tensor_img)\n",
        "# Ajouter une dimension batch\n",
        "tensor_img_batch = tensor_img.unsqueeze(0).unsqueeze(0)\n",
        "print(\"Batch shape :\", tensor_img_batch.shape)\n"
      ],
      "metadata": {
        "colab": {
          "base_uri": "https://localhost:8080/",
          "height": 608
        },
        "id": "zvkDYVG51R9i",
        "outputId": "7dba65b0-302e-4354-8f92-4dbdb765e36b"
      },
      "execution_count": 4,
      "outputs": [
        {
          "output_type": "display_data",
          "data": {
            "text/plain": [
              "<Figure size 640x480 with 1 Axes>"
            ],
            "image/png": "[encoded data removed]"
          },
          "metadata": {}
        },
        {
          "output_type": "stream",
          "name": "stdout",
          "text": [
            "Tenseur image normalisé :\n",
            " tensor([[0.9333, 0.0588, 0.4549,  ..., 0.7922, 0.0039, 0.7020],\n",
            "        [0.2118, 0.5176, 0.4235,  ..., 0.0588, 0.5569, 0.6431],\n",
            "        [0.9373, 0.6078, 0.7451,  ..., 0.5098, 0.3686, 0.2314],\n",
            "        ...,\n",
            "        [0.7765, 0.0314, 0.1098,  ..., 0.1686, 0.1725, 0.4784],\n",
            "        [0.9725, 0.4431, 0.4235,  ..., 0.8471, 0.9725, 0.9843],\n",
            "        [0.4000, 0.3725, 0.0941,  ..., 0.6039, 0.8784, 0.0196]])\n",
            "Batch shape : torch.Size([1, 1, 64, 64])\n"
          ]
        }
      ]
    },
    {
      "cell_type": "markdown",
      "source": [
        "# **Exercice 1.9.5 : Tenseurs pour séquences**"
      ],
      "metadata": {
        "id": "VJ7PLP2q1Z-l"
      }
    },
    {
      "cell_type": "code",
      "source": [
        "seq = [1, 3, 5, 7, 9, 11]\n",
        "# X = [[1,3], [3,5], [5,7]], y = [[5], [7], [9]]\n",
        "X = [seq[i:i+2] for i in range(len(seq)-3)]\n",
        "y = [seq[i+2:i+3] for i in range(len(seq)-3)]\n",
        "\n",
        "print(\"X :\", X)\n",
        "print(\"y :\", y)\n"
      ],
      "metadata": {
        "colab": {
          "base_uri": "https://localhost:8080/"
        },
        "id": "V4wlgOjf1UI6",
        "outputId": "b201da4e-a52c-46fa-8528-3bcbfda1c35f"
      },
      "execution_count": 5,
      "outputs": [
        {
          "output_type": "stream",
          "name": "stdout",
          "text": [
            "X : [[1, 3], [3, 5], [5, 7]]\n",
            "y : [[5], [7], [9]]\n"
          ]
        }
      ]
    },
    {
      "cell_type": "code",
      "source": [],
      "metadata": {
        "id": "zNE-vpnm1gft"
      },
      "execution_count": null,
      "outputs": []
    },
    {
      "cell_type": "markdown",
      "source": [
        "# **Exercice 1.9.6 : Initialisation de tenseurs**"
      ],
      "metadata": {
        "id": "V2XB8Swg1imt"
      }
    },
    {
      "cell_type": "code",
      "source": [
        "import torch\n",
        "import torch.nn.init as init\n",
        "\n",
        "zeros = torch.zeros(3, 3)\n",
        "uniform = torch.rand(3, 3)\n",
        "normal = torch.randn(3, 3)\n",
        "xavier = torch.empty(3, 3)\n",
        "init.xavier_uniform_(xavier)\n",
        "\n",
        "print(\"Zeros :\\n\", zeros)\n",
        "print(\"Uniformes :\\n\", uniform)\n",
        "print(\"Normales :\\n\", normal)\n",
        "print(\"Xavier :\\n\", xavier)\n"
      ],
      "metadata": {
        "colab": {
          "base_uri": "https://localhost:8080/"
        },
        "id": "HoZO9GSk1lH0",
        "outputId": "c6758a3c-c72b-4557-ee63-3afc6ff27f2d"
      },
      "execution_count": 6,
      "outputs": [
        {
          "output_type": "stream",
          "name": "stdout",
          "text": [
            "Zeros :\n",
            " tensor([[0., 0., 0.],\n",
            "        [0., 0., 0.],\n",
            "        [0., 0., 0.]])\n",
            "Uniformes :\n",
            " tensor([[0.5265, 0.9262, 0.3666],\n",
            "        [0.1603, 0.5795, 0.2896],\n",
            "        [0.7087, 0.4840, 0.6527]])\n",
            "Normales :\n",
            " tensor([[ 0.5737,  1.4359, -0.4959],\n",
            "        [ 0.7472, -0.2676, -0.1667],\n",
            "        [-0.3275,  1.2518,  0.0881]])\n",
            "Xavier :\n",
            " tensor([[ 0.8387,  0.0809,  0.6219],\n",
            "        [ 0.0386, -0.6414, -0.9338],\n",
            "        [-0.2181, -0.2192, -0.1070]])\n"
          ]
        }
      ]
    },
    {
      "cell_type": "markdown",
      "source": [
        "# **Exercice 1.9.7 : Tenseurs creux**"
      ],
      "metadata": {
        "id": "Teu3yARq1sqm"
      }
    },
    {
      "cell_type": "code",
      "source": [
        "import torch\n",
        "\n",
        "dense = torch.diag(torch.tensor([1, 2, 3]))\n",
        "sparse = dense.to_sparse()\n",
        "print(\"Dense :\\n\", dense)\n",
        "print(\"Sparse :\\n\", sparse)\n",
        "\n",
        "# Matrice très creuse\n",
        "creuse = torch.zeros(5, 5)\n",
        "creuse[0, 0] = 1\n",
        "creuse[4, 4] = 2\n",
        "sparse2 = creuse.to_sparse()\n",
        "print(\"Sparse 2 :\\n\", sparse2)\n"
      ],
      "metadata": {
        "colab": {
          "base_uri": "https://localhost:8080/"
        },
        "id": "TBU3kphM1nlv",
        "outputId": "1549e2b4-7a00-4ad1-d93e-36a36463371d"
      },
      "execution_count": 7,
      "outputs": [
        {
          "output_type": "stream",
          "name": "stdout",
          "text": [
            "Dense :\n",
            " tensor([[1, 0, 0],\n",
            "        [0, 2, 0],\n",
            "        [0, 0, 3]])\n",
            "Sparse :\n",
            " tensor(indices=tensor([[0, 1, 2],\n",
            "                       [0, 1, 2]]),\n",
            "       values=tensor([1, 2, 3]),\n",
            "       size=(3, 3), nnz=3, layout=torch.sparse_coo)\n",
            "Sparse 2 :\n",
            " tensor(indices=tensor([[0, 4],\n",
            "                       [0, 4]]),\n",
            "       values=tensor([1., 2.]),\n",
            "       size=(5, 5), nnz=2, layout=torch.sparse_coo)\n"
          ]
        }
      ]
    },
    {
      "cell_type": "markdown",
      "source": [
        "# **Exercice 1.9.8 : Visualisation de tenseurs**"
      ],
      "metadata": {
        "id": "uGsD8Yb_16we"
      }
    },
    {
      "cell_type": "code",
      "source": [
        "import numpy as np\n",
        "import matplotlib.pyplot as plt\n",
        "\n",
        "tensor3d = np.random.rand(16, 16, 3)\n",
        "plt.imshow(tensor3d[:, :, 0], cmap=\"Reds\")\n",
        "plt.title(\"Canal 1\")\n",
        "plt.show()\n",
        "plt.imshow(tensor3d[:, :, 1], cmap=\"Greens\")\n",
        "plt.title(\"Canal 2\")\n",
        "plt.show()\n",
        "plt.imshow(tensor3d[:, :, 2], cmap=\"Blues\")\n",
        "plt.title(\"Canal 3\")\n",
        "plt.show()\n"
      ],
      "metadata": {
        "colab": {
          "base_uri": "https://localhost:8080/",
          "height": 1000
        },
        "id": "rdhH8Fa51xSr",
        "outputId": "f8514f1f-806a-4bae-80f6-d2b9621ba57f"
      },
      "execution_count": 8,
      "outputs": [
        {
          "output_type": "display_data",
          "data": {
            "text/plain": [
              "<Figure size 640x480 with 1 Axes>"
            ],
            "image/png": "[encoded data removed]"
          },
          "metadata": {}
        },
        {
          "output_type": "display_data",
          "data": {
            "text/plain": [
              "<Figure size 640x480 with 1 Axes>"
            ],
            "image/png": "[encoded data removed]"
          },
          "metadata": {}
        },
        {
          "output_type": "display_data",
          "data": {
            "text/plain": [
              "<Figure size 640x480 with 1 Axes>"
            ],
            "image/png": "[encoded data removed]"
          },
          "metadata": {}
        }
      ]
    },
    {
      "cell_type": "markdown",
      "source": [
        "# **Exercice 1.9.9 : Tenseurs et pandas**"
      ],
      "metadata": {
        "id": "BX0N-w_32DeE"
      }
    },
    {
      "cell_type": "code",
      "source": [
        "import pandas as pd\n",
        "import torch\n",
        "\n",
        "df = pd.DataFrame({'a': [1,2,3], 'b':[4,5,6]})\n",
        "tensor = torch.tensor(df.values)\n",
        "print(\"Tenseur :\", tensor)\n",
        "# opérations...\n",
        "df2 = pd.DataFrame(tensor.numpy(), columns=df.columns)\n",
        "print(\"DataFrame reconverti :\", df2)\n"
      ],
      "metadata": {
        "colab": {
          "base_uri": "https://localhost:8080/"
        },
        "id": "FDnfrGqO2Aw_",
        "outputId": "89cc5bb0-3998-463a-ed24-924b90ff7a09"
      },
      "execution_count": 9,
      "outputs": [
        {
          "output_type": "stream",
          "name": "stdout",
          "text": [
            "Tenseur : tensor([[1, 4],\n",
            "        [2, 5],\n",
            "        [3, 6]])\n",
            "DataFrame reconverti :    a  b\n",
            "0  1  4\n",
            "1  2  5\n",
            "2  3  6\n"
          ]
        }
      ]
    },
    {
      "cell_type": "markdown",
      "source": [
        "# **Exercice 1.9.10 : Lecture de fichier CSV**"
      ],
      "metadata": {
        "id": "Cmvw0haC8FgN"
      }
    },
    {
      "cell_type": "code",
      "source": [
        "import pandas as pd\n",
        "\n",
        "df = pd.read_csv(\"exemple.csv\")\n",
        "print(df)\n",
        "print(\"Moyenne de col2 :\", df['col2'].mean())"
      ],
      "metadata": {
        "id": "Addaw7ht2I9J"
      },
      "execution_count": null,
      "outputs": []
    },
    {
      "cell_type": "markdown",
      "source": [
        "# **Exercice 1.9.11 : Présentation Jupyter – Utilisation de NumPy, Plotly, Pandas, Polars**"
      ],
      "metadata": {
        "id": "QhHL5ast8v89"
      }
    },
    {
      "cell_type": "markdown",
      "source": [
        "## Introduction\n",
        "\n",
        "Dans ce notebook, nous allons découvrir quatre bibliothèques Python essentielles pour la science des données :  \n",
        "- **NumPy** : Calcul numérique, manipulation de tableaux.\n",
        "- **Pandas** : Manipulation et analyse de données tabulaires.\n",
        "- **Polars** : Manipulation de données tabulaires, rapide et moderne, syntaxe proche de Pandas.\n",
        "- **Plotly** : Visualisation interactive de données."
      ],
      "metadata": {
        "id": "zgaxrS4S9aS3"
      }
    },
    {
      "cell_type": "markdown",
      "source": [
        "## 1. NumPy\n",
        "\n",
        "**NumPy** (Numerical Python) permet de travailler avec des tableaux multidimensionnels et d'effectuer des calculs mathématiques rapides.\n"
      ],
      "metadata": {
        "id": "xWHtMFFO9e0T"
      }
    },
    {
      "cell_type": "code",
      "source": [
        "import numpy as np\n",
        "\n",
        "# Création d'un tableau NumPy\n",
        "a = np.array([1, 2, 3, 4, 5])\n",
        "print(\"Tableau NumPy :\", a)\n",
        "\n",
        "# Opérations sur les tableaux\n",
        "print(\"Addition :\", a + 10)\n",
        "print(\"Multiplication :\", a * 2)\n",
        "\n",
        "# Tableau 2D (matrice)\n",
        "b = np.array([[1, 2], [3, 4]])\n",
        "print(\"Matrice 2D :\\n\", b)\n",
        "\n",
        "# Calcul de la moyenne et de l'écart-type\n",
        "print(\"Moyenne :\", a.mean())\n",
        "print(\"Écart-type :\", a.std())\n"
      ],
      "metadata": {
        "colab": {
          "base_uri": "https://localhost:8080/"
        },
        "id": "L1SEbEbz86MG",
        "outputId": "71038728-1454-4135-8267-1965fabca13e"
      },
      "execution_count": 10,
      "outputs": [
        {
          "output_type": "stream",
          "name": "stdout",
          "text": [
            "Tableau NumPy : [1 2 3 4 5]\n",
            "Addition : [11 12 13 14 15]\n",
            "Multiplication : [ 2  4  6  8 10]\n",
            "Matrice 2D :\n",
            " [[1 2]\n",
            " [3 4]]\n",
            "Moyenne : 3.0\n",
            "Écart-type : 1.4142135623730951\n"
          ]
        }
      ]
    },
    {
      "cell_type": "markdown",
      "source": [
        "## 2. Pandas\n",
        "\n",
        "**Pandas** permet de manipuler des données sous forme de tables (DataFrame).\n"
      ],
      "metadata": {
        "id": "X_RPa_A79khT"
      }
    },
    {
      "cell_type": "code",
      "source": [
        "import pandas as pd\n",
        "\n",
        "# Création d'un DataFrame\n",
        "data = {\n",
        "    \"Nom\": [\"Alice\", \"Bob\", \"Charlie\"],\n",
        "    \"Âge\": [25, 30, 35],\n",
        "    \"Ville\": [\"Paris\", \"Lyon\", \"Marseille\"]\n",
        "}\n",
        "df = pd.DataFrame(data)\n",
        "print(df)\n",
        "\n",
        "# Sélection de colonnes/valeurs\n",
        "print(\"Âges :\", df[\"Âge\"])\n",
        "print(\"Première ligne :\", df.iloc[0])\n",
        "\n",
        "# Statistiques descriptives\n",
        "print(df.describe())\n",
        "\n",
        "# Filtrer les données\n",
        "print(df[df[\"Âge\"] > 27])\n"
      ],
      "metadata": {
        "colab": {
          "base_uri": "https://localhost:8080/"
        },
        "id": "IW9WRudC9itU",
        "outputId": "c7d9499f-c421-4e67-cc22-ecad60bded8e"
      },
      "execution_count": 11,
      "outputs": [
        {
          "output_type": "stream",
          "name": "stdout",
          "text": [
            "       Nom  Âge      Ville\n",
            "0    Alice   25      Paris\n",
            "1      Bob   30       Lyon\n",
            "2  Charlie   35  Marseille\n",
            "Âges : 0    25\n",
            "1    30\n",
            "2    35\n",
            "Name: Âge, dtype: int64\n",
            "Première ligne : Nom      Alice\n",
            "Âge         25\n",
            "Ville    Paris\n",
            "Name: 0, dtype: object\n",
            "        Âge\n",
            "count   3.0\n",
            "mean   30.0\n",
            "std     5.0\n",
            "min    25.0\n",
            "25%    27.5\n",
            "50%    30.0\n",
            "75%    32.5\n",
            "max    35.0\n",
            "       Nom  Âge      Ville\n",
            "1      Bob   30       Lyon\n",
            "2  Charlie   35  Marseille\n"
          ]
        }
      ]
    },
    {
      "cell_type": "markdown",
      "source": [
        "## 3. Polars\n",
        "\n",
        "**Polars** est une alternative à Pandas, rapide et très efficace pour les grands volumes de données.\n"
      ],
      "metadata": {
        "id": "PlNWv9DR9riV"
      }
    },
    {
      "cell_type": "code",
      "source": [
        "import polars as pl\n",
        "\n",
        "# Création d'un DataFrame Polars\n",
        "df_pl = pl.DataFrame({\n",
        "    \"Nom\": [\"Alice\", \"Bob\", \"Charlie\"],\n",
        "    \"Âge\": [25, 30, 35],\n",
        "    \"Ville\": [\"Paris\", \"Lyon\", \"Marseille\"]\n",
        "})\n",
        "print(df_pl)\n",
        "\n",
        "# Sélection d'une colonne\n",
        "print(\"Âges :\", df_pl[\"Âge\"])\n",
        "\n",
        "# Filtrer les données\n",
        "print(df_pl.filter(pl.col(\"Âge\") > 27))\n",
        "\n",
        "# Calculs rapides\n",
        "print(df_pl.select(pl.col(\"Âge\").mean()))\n"
      ],
      "metadata": {
        "colab": {
          "base_uri": "https://localhost:8080/"
        },
        "id": "W8GqiPkc9k_C",
        "outputId": "1d50b6ad-c94c-439c-9a31-71cd0bbee718"
      },
      "execution_count": 12,
      "outputs": [
        {
          "output_type": "stream",
          "name": "stdout",
          "text": [
            "shape: (3, 3)\n",
            "┌─────────┬─────┬───────────┐\n",
            "│ Nom     ┆ Âge ┆ Ville     │\n",
            "│ ---     ┆ --- ┆ ---       │\n",
            "│ str     ┆ i64 ┆ str       │\n",
            "╞═════════╪═════╪═══════════╡\n",
            "│ Alice   ┆ 25  ┆ Paris     │\n",
            "│ Bob     ┆ 30  ┆ Lyon      │\n",
            "│ Charlie ┆ 35  ┆ Marseille │\n",
            "└─────────┴─────┴───────────┘\n",
            "Âges : shape: (3,)\n",
            "Series: 'Âge' [i64]\n",
            "[\n",
            "\t25\n",
            "\t30\n",
            "\t35\n",
            "]\n",
            "shape: (2, 3)\n",
            "┌─────────┬─────┬───────────┐\n",
            "│ Nom     ┆ Âge ┆ Ville     │\n",
            "│ ---     ┆ --- ┆ ---       │\n",
            "│ str     ┆ i64 ┆ str       │\n",
            "╞═════════╪═════╪═══════════╡\n",
            "│ Bob     ┆ 30  ┆ Lyon      │\n",
            "│ Charlie ┆ 35  ┆ Marseille │\n",
            "└─────────┴─────┴───────────┘\n",
            "shape: (1, 1)\n",
            "┌──────┐\n",
            "│ Âge  │\n",
            "│ ---  │\n",
            "│ f64  │\n",
            "╞══════╡\n",
            "│ 30.0 │\n",
            "└──────┘\n"
          ]
        }
      ]
    },
    {
      "cell_type": "markdown",
      "source": [
        "## 4. Plotly\n",
        "\n",
        "**Plotly** permet de créer des graphiques interactifs pour explorer et présenter des données.\n"
      ],
      "metadata": {
        "id": "brY7O1lm9wnE"
      }
    },
    {
      "cell_type": "code",
      "source": [
        "import plotly.express as px\n",
        "\n",
        "# Exemple : graphique en barres des âges\n",
        "fig = px.bar(df, x=\"Nom\", y=\"Âge\", title=\"Âge des personnes\")\n",
        "fig.show()\n",
        "\n",
        "# Exemple : nuage de points avec des données générées\n",
        "import numpy as np\n",
        "x = np.random.randn(100)\n",
        "y = np.random.randn(100)\n",
        "fig2 = px.scatter(x=x, y=y, title=\"Nuage de points aléatoire\")\n",
        "fig2.show()\n"
      ],
      "metadata": {
        "colab": {
          "base_uri": "https://localhost:8080/",
          "height": 1000
        },
        "id": "F9wtwWGU9ueF",
        "outputId": "5dfe1cf2-cd61-4cf4-cea6-091766531e50"
      },
      "execution_count": 13,
      "outputs": [
        {
          "output_type": "display_data",
          "data": {
            "text/html": [
              "<html>\n",
              "<head><meta charset=\"utf-8\" /></head>\n",
              "<body>\n",
              "    <div>            <script src=\"https://cdnjs.cloudflare.com/ajax/libs/mathjax/2.7.5/MathJax.js?config=TeX-AMS-MML_SVG\"></script><script type=\"text/javascript\">if (window.MathJax && window.MathJax.Hub && window.MathJax.Hub.Config) {window.MathJax.Hub.Config({SVG: {font: \"STIX-Web\"}});}</script>                <script type=\"text/javascript\">window.PlotlyConfig = {MathJaxConfig: 'local'};</script>\n",
              "        <script charset=\"utf-8\" src=\"https://cdn.plot.ly/plotly-2.35.2.min.js\"></script>                <div id=\"f1a83a7f-403e-4ba3-985d-44afee551c68\" class=\"plotly-graph-div\" style=\"height:525px; width:100%;\"></div>            <script type=\"text/javascript\">                                    window.PLOTLYENV=window.PLOTLYENV || {};                                    if (document.getElementById(\"f1a83a7f-403e-4ba3-985d-44afee551c68\")) {                    Plotly.newPlot(                        \"f1a83a7f-403e-4ba3-985d-44afee551c68\",                        [{\"alignmentgroup\":\"True\",\"hovertemplate\":\"Nom=%{x}\\u003cbr\\u003eÂge=%{y}\\u003cextra\\u003e\\u003c\\u002fextra\\u003e\",\"legendgroup\":\"\",\"marker\":{\"color\":\"#636efa\",\"pattern\":{\"shape\":\"\"}},\"name\":\"\",\"offsetgroup\":\"\",\"orientation\":\"v\",\"showlegend\":false,\"textposition\":\"auto\",\"x\":[\"Alice\",\"Bob\",\"Charlie\"],\"xaxis\":\"x\",\"y\":[25,30,35],\"yaxis\":\"y\",\"type\":\"bar\"}],                        {\"template\":{\"data\":{\"histogram2dcontour\":[{\"type\":\"histogram2dcontour\",\"colorbar\":{\"outlinewidth\":0,\"ticks\":\"\"},\"colorscale\":[[0.0,\"#0d0887\"],[0.1111111111111111,\"#46039f\"],[0.2222222222222222,\"#7201a8\"],[0.3333333333333333,\"#9c179e\"],[0.4444444444444444,\"#bd3786\"],[0.5555555555555556,\"#d8576b\"],[0.6666666666666666,\"#ed7953\"],[0.7777777777777778,\"#fb9f3a\"],[0.8888888888888888,\"#fdca26\"],[1.0,\"#f0f921\"]]}],\"choropleth\":[{\"type\":\"choropleth\",\"colorbar\":{\"outlinewidth\":0,\"ticks\":\"\"}}],\"histogram2d\":[{\"type\":\"histogram2d\",\"colorbar\":{\"outlinewidth\":0,\"ticks\":\"\"},\"colorscale\":[[0.0,\"#0d0887\"],[0.1111111111111111,\"#46039f\"],[0.2222222222222222,\"#7201a8\"],[0.3333333333333333,\"#9c179e\"],[0.4444444444444444,\"#bd3786\"],[0.5555555555555556,\"#d8576b\"],[0.6666666666666666,\"#ed7953\"],[0.7777777777777778,\"#fb9f3a\"],[0.8888888888888888,\"#fdca26\"],[1.0,\"#f0f921\"]]}],\"heatmap\":[{\"type\":\"heatmap\",\"colorbar\":{\"outlinewidth\":0,\"ticks\":\"\"},\"colorscale\":[[0.0,\"#0d0887\"],[0.1111111111111111,\"#46039f\"],[0.2222222222222222,\"#7201a8\"],[0.3333333333333333,\"#9c179e\"],[0.4444444444444444,\"#bd3786\"],[0.5555555555555556,\"#d8576b\"],[0.6666666666666666,\"#ed7953\"],[0.7777777777777778,\"#fb9f3a\"],[0.8888888888888888,\"#fdca26\"],[1.0,\"#f0f921\"]]}],\"heatmapgl\":[{\"type\":\"heatmapgl\",\"colorbar\":{\"outlinewidth\":0,\"ticks\":\"\"},\"colorscale\":[[0.0,\"#0d0887\"],[0.1111111111111111,\"#46039f\"],[0.2222222222222222,\"#7201a8\"],[0.3333333333333333,\"#9c179e\"],[0.4444444444444444,\"#bd3786\"],[0.5555555555555556,\"#d8576b\"],[0.6666666666666666,\"#ed7953\"],[0.7777777777777778,\"#fb9f3a\"],[0.8888888888888888,\"#fdca26\"],[1.0,\"#f0f921\"]]}],\"contourcarpet\":[{\"type\":\"contourcarpet\",\"colorbar\":{\"outlinewidth\":0,\"ticks\":\"\"}}],\"contour\":[{\"type\":\"contour\",\"colorbar\":{\"outlinewidth\":0,\"ticks\":\"\"},\"colorscale\":[[0.0,\"#0d0887\"],[0.1111111111111111,\"#46039f\"],[0.2222222222222222,\"#7201a8\"],[0.3333333333333333,\"#9c179e\"],[0.4444444444444444,\"#bd3786\"],[0.5555555555555556,\"#d8576b\"],[0.6666666666666666,\"#ed7953\"],[0.7777777777777778,\"#fb9f3a\"],[0.8888888888888888,\"#fdca26\"],[1.0,\"#f0f921\"]]}],\"surface\":[{\"type\":\"surface\",\"colorbar\":{\"outlinewidth\":0,\"ticks\":\"\"},\"colorscale\":[[0.0,\"#0d0887\"],[0.1111111111111111,\"#46039f\"],[0.2222222222222222,\"#7201a8\"],[0.3333333333333333,\"#9c179e\"],[0.4444444444444444,\"#bd3786\"],[0.5555555555555556,\"#d8576b\"],[0.6666666666666666,\"#ed7953\"],[0.7777777777777778,\"#fb9f3a\"],[0.8888888888888888,\"#fdca26\"],[1.0,\"#f0f921\"]]}],\"mesh3d\":[{\"type\":\"mesh3d\",\"colorbar\":{\"outlinewidth\":0,\"ticks\":\"\"}}],\"scatter\":[{\"fillpattern\":{\"fillmode\":\"overlay\",\"size\":10,\"solidity\":0.2},\"type\":\"scatter\"}],\"parcoords\":[{\"type\":\"parcoords\",\"line\":{\"colorbar\":{\"outlinewidth\":0,\"ticks\":\"\"}}}],\"scatterpolargl\":[{\"type\":\"scatterpolargl\",\"marker\":{\"colorbar\":{\"outlinewidth\":0,\"ticks\":\"\"}}}],\"bar\":[{\"error_x\":{\"color\":\"#2a3f5f\"},\"error_y\":{\"color\":\"#2a3f5f\"},\"marker\":{\"line\":{\"color\":\"#E5ECF6\",\"width\":0.5},\"pattern\":{\"fillmode\":\"overlay\",\"size\":10,\"solidity\":0.2}},\"type\":\"bar\"}],\"scattergeo\":[{\"type\":\"scattergeo\",\"marker\":{\"colorbar\":{\"outlinewidth\":0,\"ticks\":\"\"}}}],\"scatterpolar\":[{\"type\":\"scatterpolar\",\"marker\":{\"colorbar\":{\"outlinewidth\":0,\"ticks\":\"\"}}}],\"histogram\":[{\"marker\":{\"pattern\":{\"fillmode\":\"overlay\",\"size\":10,\"solidity\":0.2}},\"type\":\"histogram\"}],\"scattergl\":[{\"type\":\"scattergl\",\"marker\":{\"colorbar\":{\"outlinewidth\":0,\"ticks\":\"\"}}}],\"scatter3d\":[{\"type\":\"scatter3d\",\"line\":{\"colorbar\":{\"outlinewidth\":0,\"ticks\":\"\"}},\"marker\":{\"colorbar\":{\"outlinewidth\":0,\"ticks\":\"\"}}}],\"scattermapbox\":[{\"type\":\"scattermapbox\",\"marker\":{\"colorbar\":{\"outlinewidth\":0,\"ticks\":\"\"}}}],\"scatterternary\":[{\"type\":\"scatterternary\",\"marker\":{\"colorbar\":{\"outlinewidth\":0,\"ticks\":\"\"}}}],\"scattercarpet\":[{\"type\":\"scattercarpet\",\"marker\":{\"colorbar\":{\"outlinewidth\":0,\"ticks\":\"\"}}}],\"carpet\":[{\"aaxis\":{\"endlinecolor\":\"#2a3f5f\",\"gridcolor\":\"white\",\"linecolor\":\"white\",\"minorgridcolor\":\"white\",\"startlinecolor\":\"#2a3f5f\"},\"baxis\":{\"endlinecolor\":\"#2a3f5f\",\"gridcolor\":\"white\",\"linecolor\":\"white\",\"minorgridcolor\":\"white\",\"startlinecolor\":\"#2a3f5f\"},\"type\":\"carpet\"}],\"table\":[{\"cells\":{\"fill\":{\"color\":\"#EBF0F8\"},\"line\":{\"color\":\"white\"}},\"header\":{\"fill\":{\"color\":\"#C8D4E3\"},\"line\":{\"color\":\"white\"}},\"type\":\"table\"}],\"barpolar\":[{\"marker\":{\"line\":{\"color\":\"#E5ECF6\",\"width\":0.5},\"pattern\":{\"fillmode\":\"overlay\",\"size\":10,\"solidity\":0.2}},\"type\":\"barpolar\"}],\"pie\":[{\"automargin\":true,\"type\":\"pie\"}]},\"layout\":{\"autotypenumbers\":\"strict\",\"colorway\":[\"#636efa\",\"#EF553B\",\"#00cc96\",\"#ab63fa\",\"#FFA15A\",\"#19d3f3\",\"#FF6692\",\"#B6E880\",\"#FF97FF\",\"#FECB52\"],\"font\":{\"color\":\"#2a3f5f\"},\"hovermode\":\"closest\",\"hoverlabel\":{\"align\":\"left\"},\"paper_bgcolor\":\"white\",\"plot_bgcolor\":\"#E5ECF6\",\"polar\":{\"bgcolor\":\"#E5ECF6\",\"angularaxis\":{\"gridcolor\":\"white\",\"linecolor\":\"white\",\"ticks\":\"\"},\"radialaxis\":{\"gridcolor\":\"white\",\"linecolor\":\"white\",\"ticks\":\"\"}},\"ternary\":{\"bgcolor\":\"#E5ECF6\",\"aaxis\":{\"gridcolor\":\"white\",\"linecolor\":\"white\",\"ticks\":\"\"},\"baxis\":{\"gridcolor\":\"white\",\"linecolor\":\"white\",\"ticks\":\"\"},\"caxis\":{\"gridcolor\":\"white\",\"linecolor\":\"white\",\"ticks\":\"\"}},\"coloraxis\":{\"colorbar\":{\"outlinewidth\":0,\"ticks\":\"\"}},\"colorscale\":{\"sequential\":[[0.0,\"#0d0887\"],[0.1111111111111111,\"#46039f\"],[0.2222222222222222,\"#7201a8\"],[0.3333333333333333,\"#9c179e\"],[0.4444444444444444,\"#bd3786\"],[0.5555555555555556,\"#d8576b\"],[0.6666666666666666,\"#ed7953\"],[0.7777777777777778,\"#fb9f3a\"],[0.8888888888888888,\"#fdca26\"],[1.0,\"#f0f921\"]],\"sequentialminus\":[[0.0,\"#0d0887\"],[0.1111111111111111,\"#46039f\"],[0.2222222222222222,\"#7201a8\"],[0.3333333333333333,\"#9c179e\"],[0.4444444444444444,\"#bd3786\"],[0.5555555555555556,\"#d8576b\"],[0.6666666666666666,\"#ed7953\"],[0.7777777777777778,\"#fb9f3a\"],[0.8888888888888888,\"#fdca26\"],[1.0,\"#f0f921\"]],\"diverging\":[[0,\"#8e0152\"],[0.1,\"#c51b7d\"],[0.2,\"#de77ae\"],[0.3,\"#f1b6da\"],[0.4,\"#fde0ef\"],[0.5,\"#f7f7f7\"],[0.6,\"#e6f5d0\"],[0.7,\"#b8e186\"],[0.8,\"#7fbc41\"],[0.9,\"#4d9221\"],[1,\"#276419\"]]},\"xaxis\":{\"gridcolor\":\"white\",\"linecolor\":\"white\",\"ticks\":\"\",\"title\":{\"standoff\":15},\"zerolinecolor\":\"white\",\"automargin\":true,\"zerolinewidth\":2},\"yaxis\":{\"gridcolor\":\"white\",\"linecolor\":\"white\",\"ticks\":\"\",\"title\":{\"standoff\":15},\"zerolinecolor\":\"white\",\"automargin\":true,\"zerolinewidth\":2},\"scene\":{\"xaxis\":{\"backgroundcolor\":\"#E5ECF6\",\"gridcolor\":\"white\",\"linecolor\":\"white\",\"showbackground\":true,\"ticks\":\"\",\"zerolinecolor\":\"white\",\"gridwidth\":2},\"yaxis\":{\"backgroundcolor\":\"#E5ECF6\",\"gridcolor\":\"white\",\"linecolor\":\"white\",\"showbackground\":true,\"ticks\":\"\",\"zerolinecolor\":\"white\",\"gridwidth\":2},\"zaxis\":{\"backgroundcolor\":\"#E5ECF6\",\"gridcolor\":\"white\",\"linecolor\":\"white\",\"showbackground\":true,\"ticks\":\"\",\"zerolinecolor\":\"white\",\"gridwidth\":2}},\"shapedefaults\":{\"line\":{\"color\":\"#2a3f5f\"}},\"annotationdefaults\":{\"arrowcolor\":\"#2a3f5f\",\"arrowhead\":0,\"arrowwidth\":1},\"geo\":{\"bgcolor\":\"white\",\"landcolor\":\"#E5ECF6\",\"subunitcolor\":\"white\",\"showland\":true,\"showlakes\":true,\"lakecolor\":\"white\"},\"title\":{\"x\":0.05},\"mapbox\":{\"style\":\"light\"}}},\"xaxis\":{\"anchor\":\"y\",\"domain\":[0.0,1.0],\"title\":{\"text\":\"Nom\"}},\"yaxis\":{\"anchor\":\"x\",\"domain\":[0.0,1.0],\"title\":{\"text\":\"Âge\"}},\"legend\":{\"tracegroupgap\":0},\"title\":{\"text\":\"Âge des personnes\"},\"barmode\":\"relative\"},                        {\"responsive\": true}                    ).then(function(){\n",
              "                            \n",
              "var gd = document.getElementById('f1a83a7f-403e-4ba3-985d-44afee551c68');\n",
              "var x = new MutationObserver(function (mutations, observer) {{\n",
              "        var display = window.getComputedStyle(gd).display;\n",
              "        if (!display || display === 'none') {{\n",
              "            console.log([gd, 'removed!']);\n",
              "            Plotly.purge(gd);\n",
              "            observer.disconnect();\n",
              "        }}\n",
              "}});\n",
              "\n",
              "// Listen for the removal of the full notebook cells\n",
              "var notebookContainer = gd.closest('#notebook-container');\n",
              "if (notebookContainer) {{\n",
              "    x.observe(notebookContainer, {childList: true});\n",
              "}}\n",
              "\n",
              "// Listen for the clearing of the current output cell\n",
              "var outputEl = gd.closest('.output');\n",
              "if (outputEl) {{\n",
              "    x.observe(outputEl, {childList: true});\n",
              "}}\n",
              "\n",
              "                        })                };                            </script>        </div>\n",
              "</body>\n",
              "</html>"
            ]
          },
          "metadata": {}
        },
        {
          "output_type": "display_data",
          "data": {
            "text/html": [
              "<html>\n",
              "<head><meta charset=\"utf-8\" /></head>\n",
              "<body>\n",
              "    <div>            <script src=\"https://cdnjs.cloudflare.com/ajax/libs/mathjax/2.7.5/MathJax.js?config=TeX-AMS-MML_SVG\"></script><script type=\"text/javascript\">if (window.MathJax && window.MathJax.Hub && window.MathJax.Hub.Config) {window.MathJax.Hub.Config({SVG: {font: \"STIX-Web\"}});}</script>                <script type=\"text/javascript\">window.PlotlyConfig = {MathJaxConfig: 'local'};</script>\n",
              "        <script charset=\"utf-8\" src=\"https://cdn.plot.ly/plotly-2.35.2.min.js\"></script>                <div id=\"308da2af-450e-4b7a-85b7-3f90c213b87f\" class=\"plotly-graph-div\" style=\"height:525px; width:100%;\"></div>            <script type=\"text/javascript\">                                    window.PLOTLYENV=window.PLOTLYENV || {};                                    if (document.getElementById(\"308da2af-450e-4b7a-85b7-3f90c213b87f\")) {                    Plotly.newPlot(                        \"308da2af-450e-4b7a-85b7-3f90c213b87f\",                        [{\"hovertemplate\":\"x=%{x}\\u003cbr\\u003ey=%{y}\\u003cextra\\u003e\\u003c\\u002fextra\\u003e\",\"legendgroup\":\"\",\"marker\":{\"color\":\"#636efa\",\"symbol\":\"circle\"},\"mode\":\"markers\",\"name\":\"\",\"orientation\":\"v\",\"showlegend\":false,\"x\":[0.3577537337559443,-0.7592360277176947,-0.9840835920684377,0.3329031442486418,0.1393524050162562,-2.5573703588852323,-1.1856846010988344,0.18259758675114732,1.0254039096670937,0.37222877300308627,0.3072222081601244,-0.13746353729411234,0.5253947311184026,-1.4961175507163262,-2.0305616267431086,0.587819713570965,0.6278474800788261,1.445679626944647,0.8477255101584895,-1.0631452461305932,1.1497525287411146,-0.003931323010241223,-0.7936279043068364,2.045871228191778,0.16692389483088538,-0.9938263321073733,0.48018790759784685,-1.080541800916074,-0.4998294967109957,-0.9321823965057265,0.8968875705706816,1.5539040208683292,2.2776744646439786,-1.112980828888375,1.4460455980906273,-0.7220293599987169,0.09779328156961313,0.4707360839817221,1.232117889164472,-0.8416044704877165,-0.26830531013040887,1.5855159627424125,-2.270573466565192,-0.9124596112339397,-0.22096462652834575,0.06241852680159277,0.5119267250922928,-1.1659165605571167,-0.1561002794912906,0.5413069789174993,0.3745041721919842,0.7255240314382888,0.019561352382590658,1.5310147225982993,-0.4112879491085387,-1.1138961109809724,-1.210590890620114,1.4310745807209397,-0.7752968744143905,1.364182494165449,0.9165995099438125,-0.032246477201404396,-0.37903294196866993,-0.3966010415866152,0.601046877161497,-0.7582489778615771,0.10864053974254385,1.1382553866811602,-0.5017896645347281,-1.7398085232700045,0.1957800771267504,0.21189952770811932,1.2363296221344815,-0.7444680414147731,0.10801717058904908,-2.01604491116435,-0.42549646276516273,0.9370073903982223,-1.7164764597119797,0.0001531481595000478,0.024681399325299693,-1.5287928406896867,-0.00422597053802204,0.11150413631531052,-0.5290232188706601,1.9191081388691593,0.2642673479763014,0.4101112917069823,0.1936470426151648,1.3642837675083954,2.2196902563216887,0.4219119440087406,1.5012891803149633,0.11818847418661152,-1.5369525189007498,0.7765829505758474,0.17227759945093393,0.6478317294547299,-0.9830217438674445,-0.20185082032797272],\"xaxis\":\"x\",\"y\":[-0.19391528184863116,-0.13492501619646827,-0.873824318482016,-1.1386331356357509,-0.16912775632939625,-0.32293294367579495,-0.111307498066354,0.8634455364892647,0.20264292820387494,1.2216581695705664,0.4571329249235486,-2.071168907888832,0.5332080123789338,1.1588227435487535,-0.0029721902429603406,0.4094268589911648,-0.9273425532647985,-1.9449361656132158,-1.3198269525642772,-1.8635809987384386,-0.5501796957940556,-1.1407815605011102,-0.5299318928350939,0.3533672067637666,-0.28409990300406257,0.6379553506153655,0.1502065529048293,1.9014531372960048,0.641170667632453,1.244540903980484,-1.7592688559528344,1.8052402998545074,-1.0526472990909115,0.8168033795828672,0.9441353434833121,-0.7292958638132047,1.2230755867107272,-0.8063340529036924,-1.123267797456379,-0.17863263704030938,1.2998354703352462,0.3409901285606873,0.29813582702578134,-1.034210817160593,-0.8924964967020637,0.1068439501001196,0.3053362704682659,0.9845058042626735,-0.17857046615896852,-0.24668896721047984,0.057303856506486506,-0.7903237916632679,-0.09041804420569714,1.6228813852097532,-0.4834033834763093,0.5296000916616911,1.4635630534971409,-1.315402125035359,1.0749713146201854,-0.5501111640973405,0.3052038408206168,0.8096201439946903,0.5839085218966985,-0.34789103833865515,-0.35999139209494174,1.665296514610653,-0.0390124218846511,0.4318808838258067,-1.4013725949323208,-1.0194632317205397,0.5787212767656724,0.0696920278075359,-1.78105868170606,0.8149586561340911,-0.4942724547225485,-0.6772492888475249,0.35510413897906895,-0.06156700279837733,-1.269551118860889,-0.22268921247617804,-0.10099032662957577,0.2157997451768262,-0.004154576092232616,-0.49904476289406496,0.6726913112848028,-0.1272117359111056,-0.5178406519181599,0.22974265211687478,-1.4502716775426883,-2.0355083109186523,0.45209165138141894,-1.7941970950791135,-0.8362848762382644,-1.7675175710429172,-0.696600587891588,1.019568179927289,-1.2920715691248357,-0.5699723482223594,0.35750055248703005,-0.6818205026317598],\"yaxis\":\"y\",\"type\":\"scatter\"}],                        {\"template\":{\"data\":{\"histogram2dcontour\":[{\"type\":\"histogram2dcontour\",\"colorbar\":{\"outlinewidth\":0,\"ticks\":\"\"},\"colorscale\":[[0.0,\"#0d0887\"],[0.1111111111111111,\"#46039f\"],[0.2222222222222222,\"#7201a8\"],[0.3333333333333333,\"#9c179e\"],[0.4444444444444444,\"#bd3786\"],[0.5555555555555556,\"#d8576b\"],[0.6666666666666666,\"#ed7953\"],[0.7777777777777778,\"#fb9f3a\"],[0.8888888888888888,\"#fdca26\"],[1.0,\"#f0f921\"]]}],\"choropleth\":[{\"type\":\"choropleth\",\"colorbar\":{\"outlinewidth\":0,\"ticks\":\"\"}}],\"histogram2d\":[{\"type\":\"histogram2d\",\"colorbar\":{\"outlinewidth\":0,\"ticks\":\"\"},\"colorscale\":[[0.0,\"#0d0887\"],[0.1111111111111111,\"#46039f\"],[0.2222222222222222,\"#7201a8\"],[0.3333333333333333,\"#9c179e\"],[0.4444444444444444,\"#bd3786\"],[0.5555555555555556,\"#d8576b\"],[0.6666666666666666,\"#ed7953\"],[0.7777777777777778,\"#fb9f3a\"],[0.8888888888888888,\"#fdca26\"],[1.0,\"#f0f921\"]]}],\"heatmap\":[{\"type\":\"heatmap\",\"colorbar\":{\"outlinewidth\":0,\"ticks\":\"\"},\"colorscale\":[[0.0,\"#0d0887\"],[0.1111111111111111,\"#46039f\"],[0.2222222222222222,\"#7201a8\"],[0.3333333333333333,\"#9c179e\"],[0.4444444444444444,\"#bd3786\"],[0.5555555555555556,\"#d8576b\"],[0.6666666666666666,\"#ed7953\"],[0.7777777777777778,\"#fb9f3a\"],[0.8888888888888888,\"#fdca26\"],[1.0,\"#f0f921\"]]}],\"heatmapgl\":[{\"type\":\"heatmapgl\",\"colorbar\":{\"outlinewidth\":0,\"ticks\":\"\"},\"colorscale\":[[0.0,\"#0d0887\"],[0.1111111111111111,\"#46039f\"],[0.2222222222222222,\"#7201a8\"],[0.3333333333333333,\"#9c179e\"],[0.4444444444444444,\"#bd3786\"],[0.5555555555555556,\"#d8576b\"],[0.6666666666666666,\"#ed7953\"],[0.7777777777777778,\"#fb9f3a\"],[0.8888888888888888,\"#fdca26\"],[1.0,\"#f0f921\"]]}],\"contourcarpet\":[{\"type\":\"contourcarpet\",\"colorbar\":{\"outlinewidth\":0,\"ticks\":\"\"}}],\"contour\":[{\"type\":\"contour\",\"colorbar\":{\"outlinewidth\":0,\"ticks\":\"\"},\"colorscale\":[[0.0,\"#0d0887\"],[0.1111111111111111,\"#46039f\"],[0.2222222222222222,\"#7201a8\"],[0.3333333333333333,\"#9c179e\"],[0.4444444444444444,\"#bd3786\"],[0.5555555555555556,\"#d8576b\"],[0.6666666666666666,\"#ed7953\"],[0.7777777777777778,\"#fb9f3a\"],[0.8888888888888888,\"#fdca26\"],[1.0,\"#f0f921\"]]}],\"surface\":[{\"type\":\"surface\",\"colorbar\":{\"outlinewidth\":0,\"ticks\":\"\"},\"colorscale\":[[0.0,\"#0d0887\"],[0.1111111111111111,\"#46039f\"],[0.2222222222222222,\"#7201a8\"],[0.3333333333333333,\"#9c179e\"],[0.4444444444444444,\"#bd3786\"],[0.5555555555555556,\"#d8576b\"],[0.6666666666666666,\"#ed7953\"],[0.7777777777777778,\"#fb9f3a\"],[0.8888888888888888,\"#fdca26\"],[1.0,\"#f0f921\"]]}],\"mesh3d\":[{\"type\":\"mesh3d\",\"colorbar\":{\"outlinewidth\":0,\"ticks\":\"\"}}],\"scatter\":[{\"fillpattern\":{\"fillmode\":\"overlay\",\"size\":10,\"solidity\":0.2},\"type\":\"scatter\"}],\"parcoords\":[{\"type\":\"parcoords\",\"line\":{\"colorbar\":{\"outlinewidth\":0,\"ticks\":\"\"}}}],\"scatterpolargl\":[{\"type\":\"scatterpolargl\",\"marker\":{\"colorbar\":{\"outlinewidth\":0,\"ticks\":\"\"}}}],\"bar\":[{\"error_x\":{\"color\":\"#2a3f5f\"},\"error_y\":{\"color\":\"#2a3f5f\"},\"marker\":{\"line\":{\"color\":\"#E5ECF6\",\"width\":0.5},\"pattern\":{\"fillmode\":\"overlay\",\"size\":10,\"solidity\":0.2}},\"type\":\"bar\"}],\"scattergeo\":[{\"type\":\"scattergeo\",\"marker\":{\"colorbar\":{\"outlinewidth\":0,\"ticks\":\"\"}}}],\"scatterpolar\":[{\"type\":\"scatterpolar\",\"marker\":{\"colorbar\":{\"outlinewidth\":0,\"ticks\":\"\"}}}],\"histogram\":[{\"marker\":{\"pattern\":{\"fillmode\":\"overlay\",\"size\":10,\"solidity\":0.2}},\"type\":\"histogram\"}],\"scattergl\":[{\"type\":\"scattergl\",\"marker\":{\"colorbar\":{\"outlinewidth\":0,\"ticks\":\"\"}}}],\"scatter3d\":[{\"type\":\"scatter3d\",\"line\":{\"colorbar\":{\"outlinewidth\":0,\"ticks\":\"\"}},\"marker\":{\"colorbar\":{\"outlinewidth\":0,\"ticks\":\"\"}}}],\"scattermapbox\":[{\"type\":\"scattermapbox\",\"marker\":{\"colorbar\":{\"outlinewidth\":0,\"ticks\":\"\"}}}],\"scatterternary\":[{\"type\":\"scatterternary\",\"marker\":{\"colorbar\":{\"outlinewidth\":0,\"ticks\":\"\"}}}],\"scattercarpet\":[{\"type\":\"scattercarpet\",\"marker\":{\"colorbar\":{\"outlinewidth\":0,\"ticks\":\"\"}}}],\"carpet\":[{\"aaxis\":{\"endlinecolor\":\"#2a3f5f\",\"gridcolor\":\"white\",\"linecolor\":\"white\",\"minorgridcolor\":\"white\",\"startlinecolor\":\"#2a3f5f\"},\"baxis\":{\"endlinecolor\":\"#2a3f5f\",\"gridcolor\":\"white\",\"linecolor\":\"white\",\"minorgridcolor\":\"white\",\"startlinecolor\":\"#2a3f5f\"},\"type\":\"carpet\"}],\"table\":[{\"cells\":{\"fill\":{\"color\":\"#EBF0F8\"},\"line\":{\"color\":\"white\"}},\"header\":{\"fill\":{\"color\":\"#C8D4E3\"},\"line\":{\"color\":\"white\"}},\"type\":\"table\"}],\"barpolar\":[{\"marker\":{\"line\":{\"color\":\"#E5ECF6\",\"width\":0.5},\"pattern\":{\"fillmode\":\"overlay\",\"size\":10,\"solidity\":0.2}},\"type\":\"barpolar\"}],\"pie\":[{\"automargin\":true,\"type\":\"pie\"}]},\"layout\":{\"autotypenumbers\":\"strict\",\"colorway\":[\"#636efa\",\"#EF553B\",\"#00cc96\",\"#ab63fa\",\"#FFA15A\",\"#19d3f3\",\"#FF6692\",\"#B6E880\",\"#FF97FF\",\"#FECB52\"],\"font\":{\"color\":\"#2a3f5f\"},\"hovermode\":\"closest\",\"hoverlabel\":{\"align\":\"left\"},\"paper_bgcolor\":\"white\",\"plot_bgcolor\":\"#E5ECF6\",\"polar\":{\"bgcolor\":\"#E5ECF6\",\"angularaxis\":{\"gridcolor\":\"white\",\"linecolor\":\"white\",\"ticks\":\"\"},\"radialaxis\":{\"gridcolor\":\"white\",\"linecolor\":\"white\",\"ticks\":\"\"}},\"ternary\":{\"bgcolor\":\"#E5ECF6\",\"aaxis\":{\"gridcolor\":\"white\",\"linecolor\":\"white\",\"ticks\":\"\"},\"baxis\":{\"gridcolor\":\"white\",\"linecolor\":\"white\",\"ticks\":\"\"},\"caxis\":{\"gridcolor\":\"white\",\"linecolor\":\"white\",\"ticks\":\"\"}},\"coloraxis\":{\"colorbar\":{\"outlinewidth\":0,\"ticks\":\"\"}},\"colorscale\":{\"sequential\":[[0.0,\"#0d0887\"],[0.1111111111111111,\"#46039f\"],[0.2222222222222222,\"#7201a8\"],[0.3333333333333333,\"#9c179e\"],[0.4444444444444444,\"#bd3786\"],[0.5555555555555556,\"#d8576b\"],[0.6666666666666666,\"#ed7953\"],[0.7777777777777778,\"#fb9f3a\"],[0.8888888888888888,\"#fdca26\"],[1.0,\"#f0f921\"]],\"sequentialminus\":[[0.0,\"#0d0887\"],[0.1111111111111111,\"#46039f\"],[0.2222222222222222,\"#7201a8\"],[0.3333333333333333,\"#9c179e\"],[0.4444444444444444,\"#bd3786\"],[0.5555555555555556,\"#d8576b\"],[0.6666666666666666,\"#ed7953\"],[0.7777777777777778,\"#fb9f3a\"],[0.8888888888888888,\"#fdca26\"],[1.0,\"#f0f921\"]],\"diverging\":[[0,\"#8e0152\"],[0.1,\"#c51b7d\"],[0.2,\"#de77ae\"],[0.3,\"#f1b6da\"],[0.4,\"#fde0ef\"],[0.5,\"#f7f7f7\"],[0.6,\"#e6f5d0\"],[0.7,\"#b8e186\"],[0.8,\"#7fbc41\"],[0.9,\"#4d9221\"],[1,\"#276419\"]]},\"xaxis\":{\"gridcolor\":\"white\",\"linecolor\":\"white\",\"ticks\":\"\",\"title\":{\"standoff\":15},\"zerolinecolor\":\"white\",\"automargin\":true,\"zerolinewidth\":2},\"yaxis\":{\"gridcolor\":\"white\",\"linecolor\":\"white\",\"ticks\":\"\",\"title\":{\"standoff\":15},\"zerolinecolor\":\"white\",\"automargin\":true,\"zerolinewidth\":2},\"scene\":{\"xaxis\":{\"backgroundcolor\":\"#E5ECF6\",\"gridcolor\":\"white\",\"linecolor\":\"white\",\"showbackground\":true,\"ticks\":\"\",\"zerolinecolor\":\"white\",\"gridwidth\":2},\"yaxis\":{\"backgroundcolor\":\"#E5ECF6\",\"gridcolor\":\"white\",\"linecolor\":\"white\",\"showbackground\":true,\"ticks\":\"\",\"zerolinecolor\":\"white\",\"gridwidth\":2},\"zaxis\":{\"backgroundcolor\":\"#E5ECF6\",\"gridcolor\":\"white\",\"linecolor\":\"white\",\"showbackground\":true,\"ticks\":\"\",\"zerolinecolor\":\"white\",\"gridwidth\":2}},\"shapedefaults\":{\"line\":{\"color\":\"#2a3f5f\"}},\"annotationdefaults\":{\"arrowcolor\":\"#2a3f5f\",\"arrowhead\":0,\"arrowwidth\":1},\"geo\":{\"bgcolor\":\"white\",\"landcolor\":\"#E5ECF6\",\"subunitcolor\":\"white\",\"showland\":true,\"showlakes\":true,\"lakecolor\":\"white\"},\"title\":{\"x\":0.05},\"mapbox\":{\"style\":\"light\"}}},\"xaxis\":{\"anchor\":\"y\",\"domain\":[0.0,1.0],\"title\":{\"text\":\"x\"}},\"yaxis\":{\"anchor\":\"x\",\"domain\":[0.0,1.0],\"title\":{\"text\":\"y\"}},\"legend\":{\"tracegroupgap\":0},\"title\":{\"text\":\"Nuage de points aléatoire\"}},                        {\"responsive\": true}                    ).then(function(){\n",
              "                            \n",
              "var gd = document.getElementById('308da2af-450e-4b7a-85b7-3f90c213b87f');\n",
              "var x = new MutationObserver(function (mutations, observer) {{\n",
              "        var display = window.getComputedStyle(gd).display;\n",
              "        if (!display || display === 'none') {{\n",
              "            console.log([gd, 'removed!']);\n",
              "            Plotly.purge(gd);\n",
              "            observer.disconnect();\n",
              "        }}\n",
              "}});\n",
              "\n",
              "// Listen for the removal of the full notebook cells\n",
              "var notebookContainer = gd.closest('#notebook-container');\n",
              "if (notebookContainer) {{\n",
              "    x.observe(notebookContainer, {childList: true});\n",
              "}}\n",
              "\n",
              "// Listen for the clearing of the current output cell\n",
              "var outputEl = gd.closest('.output');\n",
              "if (outputEl) {{\n",
              "    x.observe(outputEl, {childList: true});\n",
              "}}\n",
              "\n",
              "                        })                };                            </script>        </div>\n",
              "</body>\n",
              "</html>"
            ]
          },
          "metadata": {}
        }
      ]
    },
    {
      "cell_type": "markdown",
      "source": [
        "## Conclusion\n",
        "\n",
        "- **NumPy** : efficace pour les calculs numériques et les tableaux multidimensionnels.\n",
        "- **Pandas** : incontournable pour l’analyse de données tabulaires.\n",
        "- **Polars** : version rapide et moderne de Pandas pour les gros volumes.\n",
        "- **Plotly** : des graphiques interactifs et professionnels.\n",
        "\n"
      ],
      "metadata": {
        "id": "MBjOLUcn-r18"
      }
    },
    {
      "cell_type": "code",
      "source": [],
      "metadata": {
        "id": "yzRMvyvH9xF1"
      },
      "execution_count": null,
      "outputs": []
    }
  ]
}